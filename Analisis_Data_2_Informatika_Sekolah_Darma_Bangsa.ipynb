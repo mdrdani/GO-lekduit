{
  "nbformat": 4,
  "nbformat_minor": 0,
  "metadata": {
    "colab": {
      "provenance": [],
      "authorship_tag": "ABX9TyOXWh559gRJI1UI2ljmAq5e"
    },
    "kernelspec": {
      "name": "python3",
      "display_name": "Python 3"
    },
    "language_info": {
      "name": "python"
    }
  },
  "cells": [
    {
      "cell_type": "code",
      "execution_count": null,
      "metadata": {
        "id": "XEKywldmVLjq"
      },
      "outputs": [],
      "source": [
        "import requests\n",
        "from bs4 import BeautifulSoup\n",
        "\n",
        "link = \"https://www.loker.id/cari-lowongan-kerja\"\n",
        "halaman = requests.get(link)\n",
        "hasil = BeautifulSoup(halaman.text, 'html.parser')\n",
        "print(hasil.prettify())"
      ]
    }
  ]
}